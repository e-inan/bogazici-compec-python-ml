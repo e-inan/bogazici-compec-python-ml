{
 "cells": [
  {
   "cell_type": "markdown",
   "metadata": {},
   "source": [
    "    Nesne tabanlı programlama, pek çok yazılım geliştirme yönteminden yalnızca biridir. Siz bu yöntemi, yazdığınız programlarda kullanmak zorunda değilsiniz. Nesne tabanlı programlamadan hiç yararlanmadan da faydalı ve iyi programlar yazabilirsiniz elbette. Python sizi bu yöntemi kullanmaya asla zorlamaz. Ancak nesne tabanlı programlama yaklaşımı program geliştirme alanında oldukça yaygın kullanılan bir yöntemdir. Dolayısıyla, etrafta nesne tabanlı programlama yaklaşımından yararlanılarak yazılmış pek çok kodla karşılaşacaksınız. Hiç değilse karşılaştığınız bu kodları anlayabilmek için nesne tabanlı programlamayı biliyor ve tanıyor olmanız lazım. Aksi halde, bu yöntem kullanılarak geliştirilmiş programları anlayamazsınız."
   ]
  },
  {
   "cell_type": "markdown",
   "metadata": {},
   "source": [
    "# Sınıflar"
   ]
  },
  {
   "cell_type": "markdown",
   "metadata": {},
   "source": [
    "    OOP'nin temel kavramıdır. Nesneleri tanımlamamızı sağlar. Sınıfları nesne üreten şablon veya kalıp olarak da düşünebiliriz. Örneğin oyuncak araba üreten bir makine kalıbı tasarlandığında aynı kalığtan binlerce oyuncak araba üretilebilir."
   ]
  },
  {
   "cell_type": "code",
   "execution_count": 3,
   "metadata": {},
   "outputs": [],
   "source": [
    "class Araba:\n",
    "    def __init__(self, marka, model, uretim_yili, yakit_cinsi, \n",
    "                 yakit_depo_kapasite, mevcut_yakit):\n",
    "        self.marka = marka\n",
    "        self.model = model\n",
    "        self.uretim_yili = uretim_yili\n",
    "        self.yakit_cinsi = yakit_cinsi\n",
    "        self.yakit_depo_kapasite = yakit_depo_kapasite\n",
    "        self.mevcut_yakit = mevcut_yakit\n",
    "    \n",
    "    def __init__(self):\n",
    "        pass\n",
    "    \n",
    "    def ozellik_yaz(self):\n",
    "        print(\"Marka:\", self.marka)\n",
    "        print(\"Model:\", self.model)\n",
    "        print(\"Üretim Yılı:\", self.uretim_yili)\n",
    "        print(\"Yakıt cinsi:\", self.yakit_cinsi)\n",
    "        print(\"Depo kapasite:\", self.yakit_depo_kapasite)\n",
    "    \n",
    "    def yakit_al(self, miktar):\n",
    "        if miktar + self.mevcut_yakit <= self.yakit_depo_kapasite:\n",
    "            self.mevcut_yakit += miktar\n",
    "        else:\n",
    "            print(\"Bu kadar yakıt alamam\")\n",
    "        \n",
    "    def ne_kadar_yakit_var(self):\n",
    "        return self.mevcut_yakit\n",
    "    \n",
    "    def kalan_yakiti_yazdir(self):\n",
    "        print(self.mevcut_yakit,\"litre yakıt var.\")\n",
    "        \n",
    "    "
   ]
  },
  {
   "cell_type": "code",
   "execution_count": 4,
   "metadata": {},
   "outputs": [],
   "source": [
    "araba1 = Araba()"
   ]
  },
  {
   "cell_type": "code",
   "execution_count": 5,
   "metadata": {},
   "outputs": [
    {
     "ename": "TypeError",
     "evalue": "__init__() got an unexpected keyword argument 'marka'",
     "output_type": "error",
     "traceback": [
      "\u001b[1;31m---------------------------------------------------------------------------\u001b[0m",
      "\u001b[1;31mTypeError\u001b[0m                                 Traceback (most recent call last)",
      "\u001b[1;32m<ipython-input-5-f15c3df2895e>\u001b[0m in \u001b[0;36m<module>\u001b[1;34m\u001b[0m\n\u001b[0;32m      1\u001b[0m hacı_muro_01 = Araba(marka=\"Hacı Murat\", model=124, \n\u001b[0;32m      2\u001b[0m                      \u001b[0muretim_yili\u001b[0m\u001b[1;33m=\u001b[0m\u001b[1;36m1979\u001b[0m\u001b[1;33m,\u001b[0m \u001b[0myakit_cinsi\u001b[0m\u001b[1;33m=\u001b[0m\u001b[1;34m\"Benzin\"\u001b[0m\u001b[1;33m,\u001b[0m\u001b[1;33m\u001b[0m\u001b[0m\n\u001b[1;32m----> 3\u001b[1;33m                      yakit_depo_kapasite=45.0, mevcut_yakit=25.0)\n\u001b[0m",
      "\u001b[1;31mTypeError\u001b[0m: __init__() got an unexpected keyword argument 'marka'"
     ]
    }
   ],
   "source": [
    "hacı_muro_01 = Araba(marka=\"Hacı Murat\", model=124, \n",
    "                     uretim_yili=1979, yakit_cinsi=\"Benzin\", \n",
    "                     yakit_depo_kapasite=45.0, mevcut_yakit=25.0)"
   ]
  },
  {
   "cell_type": "code",
   "execution_count": 4,
   "metadata": {},
   "outputs": [
    {
     "name": "stdout",
     "output_type": "stream",
     "text": [
      "Marka: Hacı Murat\n",
      "Model: 124\n",
      "Üretim Yılı: 1979\n",
      "Yakıt cinsi: Benzin\n",
      "Depo kapasite: 45.0\n"
     ]
    }
   ],
   "source": [
    "hacı_muro_01.ozellik_yaz()"
   ]
  },
  {
   "cell_type": "code",
   "execution_count": 5,
   "metadata": {},
   "outputs": [],
   "source": [
    "mercedes_01 = Araba(marka=\"Mercedes\", model=\"C200\", \n",
    "                     uretim_yili=1979, yakit_cinsi=\"Benzin\", \n",
    "                     yakit_depo_kapasite=45.0, mevcut_yakit=25.0)"
   ]
  },
  {
   "cell_type": "code",
   "execution_count": 6,
   "metadata": {},
   "outputs": [
    {
     "name": "stdout",
     "output_type": "stream",
     "text": [
      "Marka: Mercedes\n",
      "Model: C200\n",
      "Üretim Yılı: 1979\n",
      "Yakıt cinsi: Benzin\n",
      "Depo kapasite: 45.0\n"
     ]
    }
   ],
   "source": [
    "mercedes_01.ozellik_yaz()"
   ]
  },
  {
   "cell_type": "code",
   "execution_count": 7,
   "metadata": {},
   "outputs": [
    {
     "data": {
      "text/plain": [
       "25.0"
      ]
     },
     "execution_count": 7,
     "metadata": {},
     "output_type": "execute_result"
    }
   ],
   "source": [
    "hacı_muro_01.ne_kadar_yakit_var()"
   ]
  },
  {
   "cell_type": "code",
   "execution_count": 9,
   "metadata": {},
   "outputs": [],
   "source": [
    "hacı_muro_01.yakit_al(20.0)"
   ]
  },
  {
   "cell_type": "code",
   "execution_count": 10,
   "metadata": {},
   "outputs": [
    {
     "data": {
      "text/plain": [
       "45.0"
      ]
     },
     "execution_count": 10,
     "metadata": {},
     "output_type": "execute_result"
    }
   ],
   "source": [
    "hacı_muro_01.ne_kadar_yakit_var()"
   ]
  },
  {
   "cell_type": "code",
   "execution_count": null,
   "metadata": {},
   "outputs": [],
   "source": []
  },
  {
   "cell_type": "code",
   "execution_count": 60,
   "metadata": {},
   "outputs": [
    {
     "name": "stdout",
     "output_type": "stream",
     "text": [
      "Marka: Hacı Murat\n",
      "Model: 124\n",
      "Üretim Yılı: 1979\n",
      "Yakıt cinsi: Benzin\n",
      "Depo kapasite: 45.0\n"
     ]
    }
   ],
   "source": [
    "hacı_muro_01.ozellik_yaz()"
   ]
  },
  {
   "cell_type": "code",
   "execution_count": 61,
   "metadata": {},
   "outputs": [],
   "source": [
    "hacı_muro_01.yakit_al(10.0)"
   ]
  },
  {
   "cell_type": "code",
   "execution_count": 62,
   "metadata": {},
   "outputs": [
    {
     "name": "stdout",
     "output_type": "stream",
     "text": [
      "35.0 litre yakıt var.\n"
     ]
    }
   ],
   "source": [
    "hacı_muro_01.kalan_yakiti_yazdir()"
   ]
  },
  {
   "cell_type": "code",
   "execution_count": 11,
   "metadata": {},
   "outputs": [],
   "source": [
    "hacı_muro_02 = Araba(marka=\"Murat\", model=131, \n",
    "                     uretim_yili=1979, yakit_cinsi=\"Benzin\", \n",
    "                     yakit_depo_kapasite=45.0, mevcut_yakit=25.0)"
   ]
  },
  {
   "cell_type": "code",
   "execution_count": null,
   "metadata": {},
   "outputs": [],
   "source": []
  }
 ],
 "metadata": {
  "kernelspec": {
   "display_name": "Python 3",
   "language": "python",
   "name": "python3"
  },
  "language_info": {
   "codemirror_mode": {
    "name": "ipython",
    "version": 3
   },
   "file_extension": ".py",
   "mimetype": "text/x-python",
   "name": "python",
   "nbconvert_exporter": "python",
   "pygments_lexer": "ipython3",
   "version": "3.6.5"
  }
 },
 "nbformat": 4,
 "nbformat_minor": 2
}
