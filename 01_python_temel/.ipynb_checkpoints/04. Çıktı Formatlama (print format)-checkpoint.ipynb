{
 "cells": [
  {
   "cell_type": "markdown",
   "metadata": {},
   "source": [
    "# karakter dizisi birleştirme"
   ]
  },
  {
   "cell_type": "code",
   "execution_count": 1,
   "metadata": {},
   "outputs": [],
   "source": [
    "alan_adı = \"datalonga\"\n",
    "uzantı = \"com\""
   ]
  },
  {
   "cell_type": "code",
   "execution_count": 2,
   "metadata": {},
   "outputs": [
    {
     "name": "stdout",
     "output_type": "stream",
     "text": [
      "datalonga.com\n"
     ]
    }
   ],
   "source": [
    "print(alan_adı+\".\"+uzantı)"
   ]
  },
  {
   "cell_type": "markdown",
   "metadata": {},
   "source": [
    "# format()"
   ]
  },
  {
   "cell_type": "code",
   "execution_count": 3,
   "metadata": {},
   "outputs": [
    {
     "name": "stdout",
     "output_type": "stream",
     "text": [
      "Satın aldığınız 'datalonga.com' alan adı bir yıl geçerlidir.\n"
     ]
    }
   ],
   "source": [
    "print(\"Satın aldığınız '{}.{}' alan adı bir yıl geçerlidir.\".format(alan_adı,uzantı))"
   ]
  },
  {
   "cell_type": "code",
   "execution_count": 4,
   "metadata": {},
   "outputs": [
    {
     "name": "stdout",
     "output_type": "stream",
     "text": [
      "13 yaşında Ahmet adında bir çocuğum var.\n"
     ]
    }
   ],
   "source": [
    "print(\"{} yaşında {} adında bir çocuğum var.\".format(13, \"Ahmet\"))"
   ]
  },
  {
   "cell_type": "code",
   "execution_count": 5,
   "metadata": {},
   "outputs": [
    {
     "name": "stdout",
     "output_type": "stream",
     "text": [
      "tarih: dsds\n",
      "üniversite adı: dsds\n",
      "fakülte adı: ds\n",
      "bölüm adı: sd\n",
      "öğrenci no. :ds\n",
      "öğretim yılı: ds\n",
      "yarıyıl: ds\n",
      "öğrencinin adı: ds\n",
      "öğrencinin soyadı: dsds\n",
      "TC Kimlik no. :ds\n",
      "adres: ds\n",
      "telefon: ds\n",
      "ekler: ds\n"
     ]
    }
   ],
   "source": [
    "dilekçe = \"\"\"\n",
    "                                                    tarih: {}\n",
    "\n",
    "\n",
    "T.C.\n",
    "{} ÜNİVERSİTESİ\n",
    "{} Fakültesi Dekanlığına\n",
    "\n",
    "\n",
    "Fakülteniz {} Bölümü {} numaralı öğrencisiyim. Ekte sunduğum belgede\n",
    "belirtilen mazeretim gereğince {} Eğitim-Öğretim Yılı  {}.\n",
    "yarıyılında öğrenime ara izni (kayıt dondurma) istiyorum.\n",
    "\n",
    "    Bilgilerinizi ve gereğini arz ederim.\n",
    "\n",
    "        İmza\n",
    "\n",
    "Ad              : {}\n",
    "Soyad           : {}\n",
    "T.C. Kimlik No. : {}\n",
    "Adres           : {}\n",
    "Tel.            : {}\n",
    "Ekler           : {}\n",
    "\"\"\"\n",
    "\n",
    "\n",
    "tarih           = input(\"tarih: \")\n",
    "üniversite      = input(\"üniversite adı: \")\n",
    "fakülte         = input(\"fakülte adı: \")\n",
    "bölüm           = input(\"bölüm adı: \")\n",
    "öğrenci_no      = input(\"öğrenci no. :\")\n",
    "öğretim_yılı    = input(\"öğretim yılı: \")\n",
    "yarıyıl         = input(\"yarıyıl: \")\n",
    "ad              = input(\"öğrencinin adı: \")\n",
    "soyad           = input(\"öğrencinin soyadı: \")\n",
    "tc_kimlik_no    = input(\"TC Kimlik no. :\")\n",
    "adres           = input(\"adres: \")\n",
    "tel             = input(\"telefon: \")\n",
    "ekler           = input(\"ekler: \")"
   ]
  },
  {
   "cell_type": "code",
   "execution_count": 6,
   "metadata": {},
   "outputs": [
    {
     "name": "stdout",
     "output_type": "stream",
     "text": [
      "\n",
      "                                                    tarih: dsds\n",
      "\n",
      "\n",
      "T.C.\n",
      "dsds ÜNİVERSİTESİ\n",
      "ds Fakültesi Dekanlığına\n",
      "\n",
      "\n",
      "Fakülteniz sd Bölümü ds numaralı öğrencisiyim. Ekte sunduğum belgede\n",
      "belirtilen mazeretim gereğince ds Eğitim-Öğretim Yılı  ds.\n",
      "yarıyılında öğrenime ara izni (kayıt dondurma) istiyorum.\n",
      "\n",
      "    Bilgilerinizi ve gereğini arz ederim.\n",
      "\n",
      "        İmza\n",
      "\n",
      "Ad              : ds\n",
      "Soyad           : dsds\n",
      "T.C. Kimlik No. : ds\n",
      "Adres           : ds\n",
      "Tel.            : ds\n",
      "Ekler           : ds\n",
      "\n"
     ]
    }
   ],
   "source": [
    "print(dilekçe.format(tarih, üniversite, fakülte, bölüm,\n",
    "                     öğrenci_no, öğretim_yılı, yarıyıl,\n",
    "                     ad, soyad, tc_kimlik_no,\n",
    "                     adres, tel, ekler))"
   ]
  },
  {
   "cell_type": "markdown",
   "metadata": {},
   "source": [
    "# Format için farklı bir yöntem"
   ]
  },
  {
   "cell_type": "code",
   "execution_count": 5,
   "metadata": {},
   "outputs": [
    {
     "name": "stdout",
     "output_type": "stream",
     "text": [
      "Satın aldığınız 'datalonga.com' alan adı bir yıl geçerlidir.\n"
     ]
    }
   ],
   "source": [
    "print(\"Satın aldığınız '%s.%s' alan adı bir yıl geçerlidir.\" %(alan_adı,uzantı))"
   ]
  },
  {
   "cell_type": "code",
   "execution_count": 6,
   "metadata": {},
   "outputs": [
    {
     "name": "stdout",
     "output_type": "stream",
     "text": [
      "Satın aldığınız '5.com' alan adı bir yıl geçerlidir.\n"
     ]
    }
   ],
   "source": [
    "print(\"Satın aldığınız '%d.%s' alan adı bir yıl geçerlidir.\" %(5,uzantı))"
   ]
  },
  {
   "cell_type": "code",
   "execution_count": null,
   "metadata": {},
   "outputs": [],
   "source": []
  }
 ],
 "metadata": {
  "kernelspec": {
   "display_name": "Python 3",
   "language": "python",
   "name": "python3"
  },
  "language_info": {
   "codemirror_mode": {
    "name": "ipython",
    "version": 3
   },
   "file_extension": ".py",
   "mimetype": "text/x-python",
   "name": "python",
   "nbconvert_exporter": "python",
   "pygments_lexer": "ipython3",
   "version": "3.6.5"
  }
 },
 "nbformat": 4,
 "nbformat_minor": 2
}
